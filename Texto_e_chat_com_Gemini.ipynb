{
  "nbformat": 4,
  "nbformat_minor": 0,
  "metadata": {
    "colab": {
      "provenance": [],
      "authorship_tag": "ABX9TyMdBQODvhrHS+fa3+K+JFGe",
      "include_colab_link": true
    },
    "kernelspec": {
      "name": "python3",
      "display_name": "Python 3"
    },
    "language_info": {
      "name": "python"
    }
  },
  "cells": [
    {
      "cell_type": "markdown",
      "metadata": {
        "id": "view-in-github",
        "colab_type": "text"
      },
      "source": [
        "<a href=\"https://colab.research.google.com/github/luizdevfelipe/gemini-api/blob/main/Texto_e_chat_com_Gemini.ipynb\" target=\"_parent\"><img src=\"https://colab.research.google.com/assets/colab-badge.svg\" alt=\"Open In Colab\"/></a>"
      ]
    },
    {
      "cell_type": "markdown",
      "source": [
        "**Fazendo a instalação da biblioteca do Gemini**\n"
      ],
      "metadata": {
        "id": "tyZGop4jRebg"
      }
    },
    {
      "cell_type": "code",
      "execution_count": null,
      "metadata": {
        "id": "GZ7txl6vqS35"
      },
      "outputs": [],
      "source": [
        "!pip install -q -U google-generativeai"
      ]
    },
    {
      "cell_type": "markdown",
      "source": [
        "**Importando essa biblioteca e inciando a classe com a nossa API**"
      ],
      "metadata": {
        "id": "87v1orhCRqCc"
      }
    },
    {
      "cell_type": "code",
      "source": [
        "import google.generativeai as genai\n",
        "\n",
        "genai.configure(api_key=\"...\")"
      ],
      "metadata": {
        "id": "iGvb3Up_RF5z"
      },
      "execution_count": null,
      "outputs": []
    },
    {
      "cell_type": "markdown",
      "source": [
        "**Exibindo as possíveis opções de modelo**"
      ],
      "metadata": {
        "id": "Slek5nMdNpGI"
      }
    },
    {
      "cell_type": "code",
      "source": [
        "for m in genai.list_models():\n",
        "  if 'generateContent' in m.supported_generation_methods:\n",
        "    print(m.name)"
      ],
      "metadata": {
        "colab": {
          "base_uri": "https://localhost:8080/",
          "height": 225
        },
        "id": "bobAV-v3RWfN",
        "outputId": "49f5e479-e156-49f0-f18a-028b41fb77a5"
      },
      "execution_count": null,
      "outputs": [
        {
          "output_type": "stream",
          "name": "stdout",
          "text": [
            "models/gemini-1.0-pro\n",
            "models/gemini-1.0-pro-001\n",
            "models/gemini-1.0-pro-latest\n",
            "models/gemini-1.0-pro-vision-latest\n",
            "models/gemini-1.5-flash\n",
            "models/gemini-1.5-flash-001\n",
            "models/gemini-1.5-flash-latest\n",
            "models/gemini-1.5-pro\n",
            "models/gemini-1.5-pro-001\n",
            "models/gemini-1.5-pro-latest\n",
            "models/gemini-pro\n",
            "models/gemini-pro-vision\n"
          ]
        }
      ]
    },
    {
      "cell_type": "markdown",
      "source": [
        "**Definindo alguns parâmetros de configuração em variáveis**"
      ],
      "metadata": {
        "id": "N-94I3hJX7vO"
      }
    },
    {
      "cell_type": "code",
      "source": [
        "generation_configs = {\n",
        "    \"candidate_count\": 1,\n",
        "    \"temperature\": 0.7,\n",
        "    \"top_k\": 40,\n",
        "    \"top_p\": 0.95,\n",
        "}\n",
        "\n",
        "safety_settings = {\n",
        "    \"HARASSMENT\": 'low',\n",
        "    \"HATE\": \"low\",\n",
        "    \"SEXUAL\": \"low\",\n",
        "    \"DANGEROUS\": \"low\",\n",
        "}"
      ],
      "metadata": {
        "id": "fsotolmHWM2-"
      },
      "execution_count": null,
      "outputs": []
    },
    {
      "cell_type": "markdown",
      "source": [
        "**Inicializando o modelo**"
      ],
      "metadata": {
        "id": "B0ZChow6YFNt"
      }
    },
    {
      "cell_type": "code",
      "source": [
        "model = genai.GenerativeModel(model_name=\"gemini-pro\",\n",
        "                              generation_config=generation_configs,\n",
        "                              safety_settings=safety_settings\n",
        "                              )"
      ],
      "metadata": {
        "id": "G42ZVLhZYIIg"
      },
      "execution_count": null,
      "outputs": []
    },
    {
      "cell_type": "markdown",
      "source": [
        "**Gerando uma resposta**"
      ],
      "metadata": {
        "id": "F4JfhMB2nVJU"
      }
    },
    {
      "cell_type": "code",
      "source": [
        "response = model.generate_content(\"Mensagem de bom dia\")\n",
        "print(response.text)"
      ],
      "metadata": {
        "colab": {
          "base_uri": "https://localhost:8080/",
          "height": 54
        },
        "id": "TQhnZSl4nZnp",
        "outputId": "63f39133-cef0-47aa-f504-7d99fb1e9b42"
      },
      "execution_count": null,
      "outputs": [
        {
          "output_type": "stream",
          "name": "stdout",
          "text": [
            "Bom dia! Que este novo amanhecer seja repleto de bênçãos, alegrias e conquistas. Desejo que você tenha um dia maravilhoso, cheio de realizações e momentos especiais. Aproveite cada instante com gratidão e otimismo. Que a paz, o amor e a prosperidade estejam sempre presentes em sua vida.\n"
          ]
        }
      ]
    },
    {
      "cell_type": "markdown",
      "source": [
        "**Criando um esquema de ChatBot**"
      ],
      "metadata": {
        "id": "wuZBsI6buJ54"
      }
    },
    {
      "cell_type": "code",
      "source": [
        "chat = model.start_chat(history=[])"
      ],
      "metadata": {
        "id": "Ll43bnRIuIss"
      },
      "execution_count": null,
      "outputs": []
    },
    {
      "cell_type": "code",
      "source": [
        "prompt = input(\"Escreva uma mensagem: \")\n",
        "\n",
        "while prompt != \"sair\":\n",
        "  response = chat.send_message(prompt)\n",
        "  print(response.text , '\\n')\n",
        "  prompt = input(\"Escreva uma mensagem: \")"
      ],
      "metadata": {
        "colab": {
          "base_uri": "https://localhost:8080/",
          "height": 191
        },
        "id": "4h-SGcyluTZ5",
        "outputId": "12aece37-f3b0-40ab-fb04-ef357b7dcb99"
      },
      "execution_count": null,
      "outputs": [
        {
          "name": "stdout",
          "output_type": "stream",
          "text": [
            "Escreva uma mensagem: Meu nome é Pedro\n",
            "Olá, Pedro! É um prazer conhecê-lo. \n",
            "\n",
            "Escreva uma mensagem: Qual é meu nome?\n",
            "Seu nome é Pedro. \n",
            "\n",
            "Escreva uma mensagem: E meu sobrenome?\n",
            "Você não forneceu seu sobrenome, portanto não posso respondê-lo. \n",
            "\n",
            "Escreva uma mensagem: sair\n"
          ]
        }
      ]
    }
  ]
}