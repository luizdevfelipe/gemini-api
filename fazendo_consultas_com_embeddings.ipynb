{
  "nbformat": 4,
  "nbformat_minor": 0,
  "metadata": {
    "colab": {
      "provenance": [],
      "authorship_tag": "ABX9TyPzud8PSOSSYnO6uVqIii2L",
      "include_colab_link": true
    },
    "kernelspec": {
      "name": "python3",
      "display_name": "Python 3"
    },
    "language_info": {
      "name": "python"
    }
  },
  "cells": [
    {
      "cell_type": "markdown",
      "metadata": {
        "id": "view-in-github",
        "colab_type": "text"
      },
      "source": [
        "<a href=\"https://colab.research.google.com/github/luizdevfelipe/gemini-api/blob/main/fazendo_consultas_com_embeddings.ipynb\" target=\"_parent\"><img src=\"https://colab.research.google.com/assets/colab-badge.svg\" alt=\"Open In Colab\"/></a>"
      ]
    },
    {
      "cell_type": "markdown",
      "source": [
        "**Instalando a biblioteca do Gemini**"
      ],
      "metadata": {
        "id": "KvSAg3cH5Z9C"
      }
    },
    {
      "cell_type": "code",
      "execution_count": null,
      "metadata": {
        "colab": {
          "base_uri": "https://localhost:8080/"
        },
        "id": "f0w-frP23EHS",
        "outputId": "53f4b6df-8c60-41e1-c465-f50e34628ce6"
      },
      "outputs": [
        {
          "output_type": "stream",
          "name": "stdout",
          "text": [
            "\u001b[2K     \u001b[90m━━━━━━━━━━━━━━━━━━━━━━━━━━━━━━━━━━━━━━━━\u001b[0m \u001b[32m163.1/163.1 kB\u001b[0m \u001b[31m1.1 MB/s\u001b[0m eta \u001b[36m0:00:00\u001b[0m\n",
            "\u001b[2K     \u001b[90m━━━━━━━━━━━━━━━━━━━━━━━━━━━━━━━━━━━━━━━━\u001b[0m \u001b[32m717.3/717.3 kB\u001b[0m \u001b[31m5.9 MB/s\u001b[0m eta \u001b[36m0:00:00\u001b[0m\n",
            "\u001b[?25h"
          ]
        }
      ],
      "source": [
        "!pip install -q -U google-generativeai"
      ]
    },
    {
      "cell_type": "markdown",
      "source": [
        "**Importando as bibliotecas e definindo o valor da chave de api**"
      ],
      "metadata": {
        "id": "0k9u-_G55d_g"
      }
    },
    {
      "cell_type": "code",
      "source": [
        "import numpy as np\n",
        "import pandas as pd\n",
        "import google.generativeai as genai\n",
        "\n",
        "GOOGLE_API_KEY = \"...\"\n",
        "genai.configure(api_key=GOOGLE_API_KEY)"
      ],
      "metadata": {
        "id": "_JZdjklN3cm0"
      },
      "execution_count": null,
      "outputs": []
    },
    {
      "cell_type": "markdown",
      "source": [
        "**Listando as opções de Embedding disponíveis atualmente**"
      ],
      "metadata": {
        "id": "P9JyyyS4jjGT"
      }
    },
    {
      "cell_type": "code",
      "source": [
        "for m in genai.list_models():\n",
        "  if 'embedContent' in m.supported_generation_methods:\n",
        "    print(m.name)"
      ],
      "metadata": {
        "colab": {
          "base_uri": "https://localhost:8080/",
          "height": 52
        },
        "id": "lUNRCCFH5-m-",
        "outputId": "8d6a1755-e69e-4777-f5b0-bb4f97a14996"
      },
      "execution_count": null,
      "outputs": [
        {
          "output_type": "stream",
          "name": "stdout",
          "text": [
            "models/embedding-001\n",
            "models/text-embedding-004\n"
          ]
        }
      ]
    },
    {
      "cell_type": "markdown",
      "source": [
        "**Gerando o Embedding de um texto**"
      ],
      "metadata": {
        "id": "tI3UCMiFOyEW"
      }
    },
    {
      "cell_type": "code",
      "source": [
        "title = \"A próxima geração de IA para desenvolvedores e Google Workspace\"\n",
        "sample_text = (\"Título: A próxima geração de IA para desenvolvedores e Google Workspace\"\n",
        "  \"\\n\"\n",
        "  \"Artigo Completo:\\n\"\n",
        "  \"Gemini API &  Google IA Studio: Uma maneira acessível de explorar e criar protótipos com aplicações de IA generativa\"\n",
        ")\n",
        "\n",
        "embeddings = genai.embed_content(model=\"models/embedding-001\",\n",
        "                                 content=sample_text,\n",
        "                                 title=title,\n",
        "                                 task_type=\"RETRIEVAL_DOCUMENT\"\n",
        "                                )\n",
        "print(embeddings)"
      ],
      "metadata": {
        "id": "2O80TxkVosU2",
        "colab": {
          "base_uri": "https://localhost:8080/",
          "height": 54
        },
        "outputId": "3ceac197-3e56-4652-bdd8-300853cd9156"
      },
      "execution_count": null,
      "outputs": [
        {
          "output_type": "stream",
          "name": "stdout",
          "text": [
            "{'embedding': [0.057924394, -0.025613535, -0.02905703, 0.015980126, 0.070118986, -0.00544783, -0.03850862, -0.021485824, 0.061148725, 0.059253316, 0.009979207, 0.0177078, -0.0514286, -0.025866162, 0.012766809, -0.010350732, 0.029665383, -0.021517195, -0.02858633, -0.0053529087, 0.0011328751, 0.01115765, -0.037717417, -0.068905614, -0.01301938, 0.026069468, 0.010290482, -0.04169418, -0.032155544, 0.029071623, -0.051510803, 0.04768575, -0.03400309, 0.019855704, -0.04635761, -0.029827612, -0.03281578, -0.04932401, -0.0037273732, 0.005811202, 0.0033655253, -0.08310844, -0.012970934, 0.031352203, -0.0019298407, -0.026808398, 0.05243602, 0.049039952, 0.021144219, -0.055634256, 0.019500356, 0.019670853, 0.055746213, -0.04409391, -0.009455001, -0.0033930053, 0.020127703, -0.038823564, 0.019485408, -0.009411695, 0.00760206, 0.024597468, -0.0074767396, 0.05574909, 0.026598394, -0.06344206, -0.03990161, -0.0017180463, 0.00877865, 0.052883863, 0.003733146, 0.013279548, 0.050149173, -0.06651841, -0.045406874, -0.11034991, -0.03522934, 0.037648544, -0.010542481, 0.0088475505, 0.024261588, -0.08315014, -0.05162714, -0.040318314, -0.022425087, 0.036942676, -0.05847607, -0.010445478, 0.04586509, 0.0015740673, 0.024775846, -0.03917838, 0.054407988, -0.04562512, 0.002410454, 0.088748656, -0.06151601, -0.02332685, -0.0050544324, -0.08377578, -0.009391744, 0.0049855513, -0.053140495, 0.006153688, 0.026597133, 0.043992106, -0.013772267, 0.010979409, -0.048278987, 0.11023765, -0.029138012, -0.010766096, 0.024946447, -0.056810055, 0.037645992, -0.010139333, 0.019937634, 0.0485248, 0.0038587062, 0.047023587, 0.05444884, 0.023840481, 0.03749299, -0.0013049248, -0.042169817, 0.019133518, -0.030378697, 0.016593568, 0.06288447, 0.041326284, 0.023283118, -0.06462298, -0.020082904, 0.042947084, 0.044528447, 0.044939164, 0.01742582, -0.02447137, 0.040067077, 0.055940986, 0.0019230568, 0.03996973, -0.0125712855, -0.017325541, -0.0021166105, 0.087515585, -0.07018019, -0.010438858, 0.0383894, 0.0010114447, -0.037982553, 0.015651722, -0.08000723, 0.06457243, 0.04375948, 0.020681499, -0.022957679, 0.053989135, 0.015914496, 0.015525372, 0.037511054, -0.022327857, -0.00013872117, 0.007377801, -0.015328778, -0.015266511, -0.016638122, 0.0013539033, 0.018093936, 0.039969597, 0.0024051692, 0.011228852, -0.035441674, -0.05459307, -0.008311312, -0.027505144, 0.004044549, -0.0095935045, -0.047665723, 0.021588448, -0.034561135, -0.06511314, 0.041183867, 0.032660626, 0.0069329944, -0.037818935, 0.042967964, -0.019634064, -0.07707989, 0.031983145, -0.008570757, -0.016420074, -0.01688048, 0.015916526, -0.032448098, 0.040257994, 0.016946502, 0.019915607, 0.004500304, -0.021492073, -0.0037479713, 0.07077085, 0.04482883, 0.008842542, 0.002558535, 0.043536276, 0.08251363, -0.023612859, -0.03919656, 0.028978033, -0.03198523, 0.00883611, 0.021000976, 0.043410968, 0.03423728, -0.017995575, -0.010038862, 0.003875854, -0.03241286, -0.043519527, -0.021189377, -0.0014245043, -0.033934776, -0.014240532, -0.029489575, 0.058294047, -0.057141785, 0.060429636, 0.03366205, -0.07609663, 0.024349425, 0.06622596, 0.064768255, -0.0013360686, 0.04667242, 0.015852576, 0.0070256186, 0.013154324, 0.028958593, 0.054392535, -0.033269275, 0.0572199, 0.03997731, 0.038887184, -0.05411489, 0.0015801284, 0.0070314743, 0.05255487, -0.0032919557, 0.04442535, -0.009514886, -0.05457524, -0.043807913, 0.070733555, -0.02855125, -0.009051827, -0.06256511, -0.057628088, 0.056463066, -0.0006388969, 0.07680509, -0.05221479, 0.011112055, 0.0058749, -0.0014647719, -0.058946278, 0.0191755, 0.04360863, -0.031291544, 0.041069686, -0.0053175995, -0.06146007, 0.052254003, 0.065454885, -0.00596557, 0.03903163, 0.006955612, 0.034207918, 0.06539653, -0.08130197, 0.008931987, 0.044444084, 0.011417239, -0.06452986, -0.052882683, -0.013362175, -0.016784534, -0.054096516, -0.002559191, -0.049275313, -0.07391008, 0.02850803, -0.0029021834, 0.02465573, -0.052745897, 0.00024185049, -0.04392474, 0.045416802, 0.04918736, -0.015361345, -0.02496836, -0.07146994, -0.030070493, -0.0803874, -0.012177573, -0.035888802, -0.008751197, -0.049647097, 0.055524945, 0.03547204, 0.013702971, -0.036400586, -0.0077361576, 0.027658997, 0.07720994, 0.048366114, -0.031771794, 0.007040085, -0.015000769, 0.05824678, 0.003721521, 0.013966772, 0.0022881518, 0.0026347144, -0.015719138, 0.049673535, -0.03265015, -0.003367977, -0.010542987, 0.03123573, -0.01828839, -0.0040856544, -0.008391094, 0.041801788, 0.073810555, -0.0031167201, -0.058592226, 0.005355148, -0.018205605, -0.034482583, -0.008235152, -0.015154721, 0.0061034355, -0.039939377, 0.028770514, 0.0046683527, -0.09793477, -0.0137208225, 0.0525296, 0.020917667, -0.0075762146, 0.050796073, -0.030431183, -0.032142695, -0.0003718554, -0.013736215, 0.033364788, 0.019733317, 0.06354404, -0.031738028, -0.010326526, 0.039742418, -0.009580833, 0.00805218, 0.0139985895, 0.051549826, 0.006735075, 0.0029338626, -0.0038407212, 0.014651184, 0.024127534, -0.045013256, 0.013883443, -0.011846599, 0.008068506, -0.0032426426, -0.02317562, -0.0630606, -0.0020122994, 0.027984206, -0.019844608, -0.057234544, 0.036502324, 0.04605802, -0.023314575, -0.0029877, 0.041414883, 0.061984777, 0.009816133, 0.047954697, 0.0117776105, 0.009867992, 0.09416753, 0.0231674, 0.022656728, 0.017184896, -0.0125307, -0.0347978, 0.042043537, -0.023469439, -0.0077851727, -0.044090793, -0.0240618, -0.011903118, -0.025946284, 0.005234591, -0.03716422, -0.02942988, -0.053763222, -0.048464242, 0.017240185, 0.009531008, 0.045256276, -0.06957004, -0.050812922, -0.017202532, 0.01192477, -0.017023316, -0.009653208, -0.022597266, -0.0047401492, 0.016366819, 0.037533622, -0.032516055, -0.049418565, -0.003283026, 0.012457622, -0.05690539, 0.0010057102, 0.027025398, 0.0072298204, 0.013715573, 0.008979185, 0.0044940086, -0.022780968, -0.031741932, 0.00915038, 0.008104857, -0.014977395, 0.023701292, 0.038151372, -0.014756152, -0.0013520897, -0.0008047673, -0.0600266, -0.06069489, -0.01314725, 0.008860888, 0.05191474, -0.052634936, 0.025889236, -0.055254485, -0.039509546, -0.0396702, -0.02466817, 0.018540934, 0.02850946, 0.01775494, -0.0012036597, 0.010984186, 0.00785146, -0.028179351, -0.012359133, -0.016331356, 0.04556095, 0.003617675, 0.0059251073, -0.0038422544, 0.019206777, 0.016408755, 0.029657697, -0.08054075, 0.03832101, -0.016695332, 0.008861198, 0.016581053, -0.0484202, 0.03883258, -0.022043454, 0.018452598, -0.025352292, 0.0114127435, 0.029076621, -0.014579576, -0.010125919, -0.050202206, 0.0058341804, -0.0032196166, 0.0027261723, 0.019149538, 0.028943293, 0.024236683, -0.045829605, -0.04913295, -0.017252848, -0.012961976, -0.032502167, 0.0018015719, 0.030657364, 0.014021773, -0.00970538, -0.023925105, -0.014388478, 0.025081426, 0.044230074, -0.026161017, 0.012990574, -0.013215609, 0.00025324593, -0.043802436, -0.021109324, -0.017396687, 0.0058044856, -0.040119845, 0.067675434, -0.02494559, -0.014536522, 0.033891417, 0.01384309, -0.005881747, 0.07734527, 0.03756934, -0.055639762, 0.003983328, 0.018161522, -0.05046682, 0.016622443, 0.0002291802, 0.006395756, 0.028768526, -0.018596185, 0.065141365, 0.001643513, -0.0396115, 0.01337496, 0.021587664, 0.046091784, -0.011612895, -0.03367497, 0.01774422, 0.008836729, -0.07240028, 0.03283901, 0.019034335, -0.03464842, -0.0124464845, -0.010721126, -0.06228269, 0.020715794, -0.009342393, -0.013361269, 0.0014269496, -0.007256537, 0.025567414, 0.033688813, -0.04361029, 0.007898158, -0.019962182, 0.043948878, 0.01782226, 0.03332996, -0.0019474332, -0.01952748, -0.00068508013, 0.062466938, 0.009762515, -0.025695013, -0.020235265, 0.035304584, -0.02732824, 0.00643196, 0.013223018, 0.01663257, 0.0075633964, 0.044874303, -0.0041672043, -0.03877263, -0.018735593, -0.049368896, 0.03766482, 0.040282816, -0.0075684697, -0.026554551, 0.051363073, -0.048558284, -0.0071494426, 0.012028703, 0.029774657, 0.053563584, 0.028818004, -0.046663806, 0.060501717, 0.013486999, 0.021694057, 0.035717, -0.00705535, 0.024986394, -0.010252268, 0.02464378, 0.055735298, -0.031458043, -0.044189725, 0.05520768, -0.013755271, -0.020784546, 0.0040006787, -0.01124037, 0.012165716, 0.01205604, -0.005688437, 0.0010624059, -0.089174174, 0.014177633, -0.03384508, -0.04820516, -0.021556327, 0.02586732, 0.026172737, -0.022236975, -0.0180864, 0.039861042, 0.033872522, 0.022124955, 0.03197211, 0.028359577, 0.018477527, -0.059717614, 0.010000114, 0.052233204, 0.048877027, 0.06492968, 0.057539046, 0.010374907, -0.046014015, -0.05821132, -0.00043171822, 0.017788192, 0.05965343, -0.024045056, -0.03870805, -0.04080734, -0.007738211, -0.017015498, -0.03412821, -0.02758907, 0.0146225, -0.0055455556, -0.06742012, -0.05797843, 0.0012757776, -0.0054438477, 0.0064915386, -0.0013469363, 0.008107009, 0.052438147, 0.0025243142, -0.066165425, -0.059896372, 0.0050999452, -0.022152517, -0.06080346, 0.015541833, 6.29623e-05, -0.0053909845, -0.05338671, -0.033704672, -0.061186742, -0.091882244, -0.040151093, 0.03751751, -0.04517354, 0.046816304, 0.032660425, -0.009200472, 0.01670443, 0.05365922, 0.0023838857, -0.0029213082, -0.0012018873, -0.03591355, 0.0043271254, -0.046043046, -0.00170984, 0.004061125, -0.025772471, 0.021471674, 0.050420035, 0.008878418, -0.004227663, -0.020359118, -0.011322678, -0.032797705, -0.003191473, -0.024149071, -0.013471259, -0.045886092, -0.02180005, -0.06334266, 0.054974854, 0.04341679, -0.010494298, -0.0013095888, -0.019321876, -0.014488537, -0.0025551359, -0.023041105, -0.042240117, -0.004109614, -0.0201625, 0.057276838, 0.06300231, -0.045105282, -0.096169814, 0.025027333, -0.033076406, 0.0103861755, -0.036448266, 0.00012363629, -0.010336579, 0.039370097, 0.009080095, -0.009854708, 0.0029267427, -0.03643279, -0.078485094, 0.013886218, -0.028973557, 0.023182413, -0.036993675, 0.007080305, 0.07234526, -0.001556932, -0.05017984, -0.0026132087, -0.014420239, 0.008857963, -0.03391778, 0.05508583, -0.045972172, -0.06790322, -0.033026166, -0.013658611, -0.027090017, 0.058289364, 0.02382774, -0.02691244, -0.0014237098, -0.011356607, -0.019602375, -0.07294553, -0.039798617, -0.026720183, -0.006036517, 0.029051445, -0.011259009, -0.004715625, 0.0044466457, -0.034721013, -0.002662754, 0.02010545, -0.033157635, -0.042810872, 0.01543596, -0.026760135, 0.01249325, 0.09767932, -0.054366015, -0.00068771985]}\n"
          ]
        }
      ]
    },
    {
      "cell_type": "markdown",
      "source": [
        "**Gerando alguns textos com títulos e organizando em uma mesma lista**"
      ],
      "metadata": {
        "id": "hx5MB61cRIAF"
      }
    },
    {
      "cell_type": "code",
      "source": [
        "DOCUMENT1 = {\n",
        "    \"Título\": \"Operações do sistema de controle climático\",\n",
        "    \"Conteúdo\": \"Sensores estrategicamente posicionados dentro do Google Car monitoram constantemente a temperatura, a umidade e a qualidade do ar, transmitindo esses dados para um controlador inteligente que, por sua vez, ajusta automaticamente o ar condicionado, a ventilação e a iluminação, garantindo um ambiente interno sempre agradável e personalizado, como um maestro conduzindo uma sinfonia de conforto.\", }\n",
        "\n",
        "DOCUMENT2 = {\n",
        "    \"Título\":\"Touchscreen\",\n",
        "    \"Conteúdo\":\"A tela touchscreen do Google Car é como uma tela mágica que responde ao toque dos dedos, transformando comandos em ações intuitivas, permitindo navegar pelos menus, controlar o sistema de entretenimento, ajustar o clima e até mesmo visualizar informações importantes sobre a viagem, tudo com a fluidez e precisão de um maestro conduzindo uma orquestra digital.\", }\n",
        "\n",
        "DOCUMENT3 = {\n",
        "    \"Título\":\"Mudança de Marchas\",\n",
        "    \"Conteúdo\":\"A caixa de câmbio do Google Car, totalmente automatizada, realiza a troca de marchas com a precisão de um relojoeiro, adaptando-se às condições da estrada e ao estilo de condução, garantindo uma experiência suave e eficiente, como um maestro conduzindo uma sinfonia de movimentos sincronizados.\" }\n",
        "\n",
        "documents = [DOCUMENT1, DOCUMENT2, DOCUMENT3]"
      ],
      "metadata": {
        "id": "2UWrHLxCPVBv"
      },
      "execution_count": null,
      "outputs": []
    },
    {
      "cell_type": "markdown",
      "source": [
        "**Transformando esses textos gerados para o formato DataFrame através da biblioteca Pandas**"
      ],
      "metadata": {
        "id": "pejUMv0sRUvA"
      }
    },
    {
      "cell_type": "code",
      "source": [
        "df = pd.DataFrame(documents)\n",
        "df.columns = ['Titulo', 'Conteudo']\n",
        "df"
      ],
      "metadata": {
        "colab": {
          "base_uri": "https://localhost:8080/",
          "height": 143
        },
        "id": "IQkgKdjoRbxB",
        "outputId": "0edcc544-a044-44a8-e3ba-ca580c689dd0"
      },
      "execution_count": null,
      "outputs": [
        {
          "output_type": "execute_result",
          "data": {
            "text/plain": [
              "                                       Titulo  \\\n",
              "0  Operações do sistema de controle climático   \n",
              "1                                 Touchscreen   \n",
              "2                          Mudança de Marchas   \n",
              "\n",
              "                                            Conteudo  \n",
              "0  Sensores estrategicamente posicionados dentro ...  \n",
              "1  A tela touchscreen do Google Car é como uma te...  \n",
              "2  A caixa de câmbio do Google Car, totalmente au...  "
            ],
            "text/html": [
              "\n",
              "  <div id=\"df-7a12b852-a074-4322-8675-3cb26fd9faf3\" class=\"colab-df-container\">\n",
              "    <div>\n",
              "<style scoped>\n",
              "    .dataframe tbody tr th:only-of-type {\n",
              "        vertical-align: middle;\n",
              "    }\n",
              "\n",
              "    .dataframe tbody tr th {\n",
              "        vertical-align: top;\n",
              "    }\n",
              "\n",
              "    .dataframe thead th {\n",
              "        text-align: right;\n",
              "    }\n",
              "</style>\n",
              "<table border=\"1\" class=\"dataframe\">\n",
              "  <thead>\n",
              "    <tr style=\"text-align: right;\">\n",
              "      <th></th>\n",
              "      <th>Titulo</th>\n",
              "      <th>Conteudo</th>\n",
              "    </tr>\n",
              "  </thead>\n",
              "  <tbody>\n",
              "    <tr>\n",
              "      <th>0</th>\n",
              "      <td>Operações do sistema de controle climático</td>\n",
              "      <td>Sensores estrategicamente posicionados dentro ...</td>\n",
              "    </tr>\n",
              "    <tr>\n",
              "      <th>1</th>\n",
              "      <td>Touchscreen</td>\n",
              "      <td>A tela touchscreen do Google Car é como uma te...</td>\n",
              "    </tr>\n",
              "    <tr>\n",
              "      <th>2</th>\n",
              "      <td>Mudança de Marchas</td>\n",
              "      <td>A caixa de câmbio do Google Car, totalmente au...</td>\n",
              "    </tr>\n",
              "  </tbody>\n",
              "</table>\n",
              "</div>\n",
              "    <div class=\"colab-df-buttons\">\n",
              "\n",
              "  <div class=\"colab-df-container\">\n",
              "    <button class=\"colab-df-convert\" onclick=\"convertToInteractive('df-7a12b852-a074-4322-8675-3cb26fd9faf3')\"\n",
              "            title=\"Convert this dataframe to an interactive table.\"\n",
              "            style=\"display:none;\">\n",
              "\n",
              "  <svg xmlns=\"http://www.w3.org/2000/svg\" height=\"24px\" viewBox=\"0 -960 960 960\">\n",
              "    <path d=\"M120-120v-720h720v720H120Zm60-500h600v-160H180v160Zm220 220h160v-160H400v160Zm0 220h160v-160H400v160ZM180-400h160v-160H180v160Zm440 0h160v-160H620v160ZM180-180h160v-160H180v160Zm440 0h160v-160H620v160Z\"/>\n",
              "  </svg>\n",
              "    </button>\n",
              "\n",
              "  <style>\n",
              "    .colab-df-container {\n",
              "      display:flex;\n",
              "      gap: 12px;\n",
              "    }\n",
              "\n",
              "    .colab-df-convert {\n",
              "      background-color: #E8F0FE;\n",
              "      border: none;\n",
              "      border-radius: 50%;\n",
              "      cursor: pointer;\n",
              "      display: none;\n",
              "      fill: #1967D2;\n",
              "      height: 32px;\n",
              "      padding: 0 0 0 0;\n",
              "      width: 32px;\n",
              "    }\n",
              "\n",
              "    .colab-df-convert:hover {\n",
              "      background-color: #E2EBFA;\n",
              "      box-shadow: 0px 1px 2px rgba(60, 64, 67, 0.3), 0px 1px 3px 1px rgba(60, 64, 67, 0.15);\n",
              "      fill: #174EA6;\n",
              "    }\n",
              "\n",
              "    .colab-df-buttons div {\n",
              "      margin-bottom: 4px;\n",
              "    }\n",
              "\n",
              "    [theme=dark] .colab-df-convert {\n",
              "      background-color: #3B4455;\n",
              "      fill: #D2E3FC;\n",
              "    }\n",
              "\n",
              "    [theme=dark] .colab-df-convert:hover {\n",
              "      background-color: #434B5C;\n",
              "      box-shadow: 0px 1px 3px 1px rgba(0, 0, 0, 0.15);\n",
              "      filter: drop-shadow(0px 1px 2px rgba(0, 0, 0, 0.3));\n",
              "      fill: #FFFFFF;\n",
              "    }\n",
              "  </style>\n",
              "\n",
              "    <script>\n",
              "      const buttonEl =\n",
              "        document.querySelector('#df-7a12b852-a074-4322-8675-3cb26fd9faf3 button.colab-df-convert');\n",
              "      buttonEl.style.display =\n",
              "        google.colab.kernel.accessAllowed ? 'block' : 'none';\n",
              "\n",
              "      async function convertToInteractive(key) {\n",
              "        const element = document.querySelector('#df-7a12b852-a074-4322-8675-3cb26fd9faf3');\n",
              "        const dataTable =\n",
              "          await google.colab.kernel.invokeFunction('convertToInteractive',\n",
              "                                                    [key], {});\n",
              "        if (!dataTable) return;\n",
              "\n",
              "        const docLinkHtml = 'Like what you see? Visit the ' +\n",
              "          '<a target=\"_blank\" href=https://colab.research.google.com/notebooks/data_table.ipynb>data table notebook</a>'\n",
              "          + ' to learn more about interactive tables.';\n",
              "        element.innerHTML = '';\n",
              "        dataTable['output_type'] = 'display_data';\n",
              "        await google.colab.output.renderOutput(dataTable, element);\n",
              "        const docLink = document.createElement('div');\n",
              "        docLink.innerHTML = docLinkHtml;\n",
              "        element.appendChild(docLink);\n",
              "      }\n",
              "    </script>\n",
              "  </div>\n",
              "\n",
              "\n",
              "<div id=\"df-a305834d-26ca-4db4-9833-2c2c008d52ad\">\n",
              "  <button class=\"colab-df-quickchart\" onclick=\"quickchart('df-a305834d-26ca-4db4-9833-2c2c008d52ad')\"\n",
              "            title=\"Suggest charts\"\n",
              "            style=\"display:none;\">\n",
              "\n",
              "<svg xmlns=\"http://www.w3.org/2000/svg\" height=\"24px\"viewBox=\"0 0 24 24\"\n",
              "     width=\"24px\">\n",
              "    <g>\n",
              "        <path d=\"M19 3H5c-1.1 0-2 .9-2 2v14c0 1.1.9 2 2 2h14c1.1 0 2-.9 2-2V5c0-1.1-.9-2-2-2zM9 17H7v-7h2v7zm4 0h-2V7h2v10zm4 0h-2v-4h2v4z\"/>\n",
              "    </g>\n",
              "</svg>\n",
              "  </button>\n",
              "\n",
              "<style>\n",
              "  .colab-df-quickchart {\n",
              "      --bg-color: #E8F0FE;\n",
              "      --fill-color: #1967D2;\n",
              "      --hover-bg-color: #E2EBFA;\n",
              "      --hover-fill-color: #174EA6;\n",
              "      --disabled-fill-color: #AAA;\n",
              "      --disabled-bg-color: #DDD;\n",
              "  }\n",
              "\n",
              "  [theme=dark] .colab-df-quickchart {\n",
              "      --bg-color: #3B4455;\n",
              "      --fill-color: #D2E3FC;\n",
              "      --hover-bg-color: #434B5C;\n",
              "      --hover-fill-color: #FFFFFF;\n",
              "      --disabled-bg-color: #3B4455;\n",
              "      --disabled-fill-color: #666;\n",
              "  }\n",
              "\n",
              "  .colab-df-quickchart {\n",
              "    background-color: var(--bg-color);\n",
              "    border: none;\n",
              "    border-radius: 50%;\n",
              "    cursor: pointer;\n",
              "    display: none;\n",
              "    fill: var(--fill-color);\n",
              "    height: 32px;\n",
              "    padding: 0;\n",
              "    width: 32px;\n",
              "  }\n",
              "\n",
              "  .colab-df-quickchart:hover {\n",
              "    background-color: var(--hover-bg-color);\n",
              "    box-shadow: 0 1px 2px rgba(60, 64, 67, 0.3), 0 1px 3px 1px rgba(60, 64, 67, 0.15);\n",
              "    fill: var(--button-hover-fill-color);\n",
              "  }\n",
              "\n",
              "  .colab-df-quickchart-complete:disabled,\n",
              "  .colab-df-quickchart-complete:disabled:hover {\n",
              "    background-color: var(--disabled-bg-color);\n",
              "    fill: var(--disabled-fill-color);\n",
              "    box-shadow: none;\n",
              "  }\n",
              "\n",
              "  .colab-df-spinner {\n",
              "    border: 2px solid var(--fill-color);\n",
              "    border-color: transparent;\n",
              "    border-bottom-color: var(--fill-color);\n",
              "    animation:\n",
              "      spin 1s steps(1) infinite;\n",
              "  }\n",
              "\n",
              "  @keyframes spin {\n",
              "    0% {\n",
              "      border-color: transparent;\n",
              "      border-bottom-color: var(--fill-color);\n",
              "      border-left-color: var(--fill-color);\n",
              "    }\n",
              "    20% {\n",
              "      border-color: transparent;\n",
              "      border-left-color: var(--fill-color);\n",
              "      border-top-color: var(--fill-color);\n",
              "    }\n",
              "    30% {\n",
              "      border-color: transparent;\n",
              "      border-left-color: var(--fill-color);\n",
              "      border-top-color: var(--fill-color);\n",
              "      border-right-color: var(--fill-color);\n",
              "    }\n",
              "    40% {\n",
              "      border-color: transparent;\n",
              "      border-right-color: var(--fill-color);\n",
              "      border-top-color: var(--fill-color);\n",
              "    }\n",
              "    60% {\n",
              "      border-color: transparent;\n",
              "      border-right-color: var(--fill-color);\n",
              "    }\n",
              "    80% {\n",
              "      border-color: transparent;\n",
              "      border-right-color: var(--fill-color);\n",
              "      border-bottom-color: var(--fill-color);\n",
              "    }\n",
              "    90% {\n",
              "      border-color: transparent;\n",
              "      border-bottom-color: var(--fill-color);\n",
              "    }\n",
              "  }\n",
              "</style>\n",
              "\n",
              "  <script>\n",
              "    async function quickchart(key) {\n",
              "      const quickchartButtonEl =\n",
              "        document.querySelector('#' + key + ' button');\n",
              "      quickchartButtonEl.disabled = true;  // To prevent multiple clicks.\n",
              "      quickchartButtonEl.classList.add('colab-df-spinner');\n",
              "      try {\n",
              "        const charts = await google.colab.kernel.invokeFunction(\n",
              "            'suggestCharts', [key], {});\n",
              "      } catch (error) {\n",
              "        console.error('Error during call to suggestCharts:', error);\n",
              "      }\n",
              "      quickchartButtonEl.classList.remove('colab-df-spinner');\n",
              "      quickchartButtonEl.classList.add('colab-df-quickchart-complete');\n",
              "    }\n",
              "    (() => {\n",
              "      let quickchartButtonEl =\n",
              "        document.querySelector('#df-a305834d-26ca-4db4-9833-2c2c008d52ad button');\n",
              "      quickchartButtonEl.style.display =\n",
              "        google.colab.kernel.accessAllowed ? 'block' : 'none';\n",
              "    })();\n",
              "  </script>\n",
              "</div>\n",
              "\n",
              "  <div id=\"id_35de6629-634f-4194-ac35-3f8ec8b8b43a\">\n",
              "    <style>\n",
              "      .colab-df-generate {\n",
              "        background-color: #E8F0FE;\n",
              "        border: none;\n",
              "        border-radius: 50%;\n",
              "        cursor: pointer;\n",
              "        display: none;\n",
              "        fill: #1967D2;\n",
              "        height: 32px;\n",
              "        padding: 0 0 0 0;\n",
              "        width: 32px;\n",
              "      }\n",
              "\n",
              "      .colab-df-generate:hover {\n",
              "        background-color: #E2EBFA;\n",
              "        box-shadow: 0px 1px 2px rgba(60, 64, 67, 0.3), 0px 1px 3px 1px rgba(60, 64, 67, 0.15);\n",
              "        fill: #174EA6;\n",
              "      }\n",
              "\n",
              "      [theme=dark] .colab-df-generate {\n",
              "        background-color: #3B4455;\n",
              "        fill: #D2E3FC;\n",
              "      }\n",
              "\n",
              "      [theme=dark] .colab-df-generate:hover {\n",
              "        background-color: #434B5C;\n",
              "        box-shadow: 0px 1px 3px 1px rgba(0, 0, 0, 0.15);\n",
              "        filter: drop-shadow(0px 1px 2px rgba(0, 0, 0, 0.3));\n",
              "        fill: #FFFFFF;\n",
              "      }\n",
              "    </style>\n",
              "    <button class=\"colab-df-generate\" onclick=\"generateWithVariable('df')\"\n",
              "            title=\"Generate code using this dataframe.\"\n",
              "            style=\"display:none;\">\n",
              "\n",
              "  <svg xmlns=\"http://www.w3.org/2000/svg\" height=\"24px\"viewBox=\"0 0 24 24\"\n",
              "       width=\"24px\">\n",
              "    <path d=\"M7,19H8.4L18.45,9,17,7.55,7,17.6ZM5,21V16.75L18.45,3.32a2,2,0,0,1,2.83,0l1.4,1.43a1.91,1.91,0,0,1,.58,1.4,1.91,1.91,0,0,1-.58,1.4L9.25,21ZM18.45,9,17,7.55Zm-12,3A5.31,5.31,0,0,0,4.9,8.1,5.31,5.31,0,0,0,1,6.5,5.31,5.31,0,0,0,4.9,4.9,5.31,5.31,0,0,0,6.5,1,5.31,5.31,0,0,0,8.1,4.9,5.31,5.31,0,0,0,12,6.5,5.46,5.46,0,0,0,6.5,12Z\"/>\n",
              "  </svg>\n",
              "    </button>\n",
              "    <script>\n",
              "      (() => {\n",
              "      const buttonEl =\n",
              "        document.querySelector('#id_35de6629-634f-4194-ac35-3f8ec8b8b43a button.colab-df-generate');\n",
              "      buttonEl.style.display =\n",
              "        google.colab.kernel.accessAllowed ? 'block' : 'none';\n",
              "\n",
              "      buttonEl.onclick = () => {\n",
              "        google.colab.notebook.generateWithVariable('df');\n",
              "      }\n",
              "      })();\n",
              "    </script>\n",
              "  </div>\n",
              "\n",
              "    </div>\n",
              "  </div>\n"
            ],
            "application/vnd.google.colaboratory.intrinsic+json": {
              "type": "dataframe",
              "variable_name": "df",
              "summary": "{\n  \"name\": \"df\",\n  \"rows\": 3,\n  \"fields\": [\n    {\n      \"column\": \"Titulo\",\n      \"properties\": {\n        \"dtype\": \"string\",\n        \"num_unique_values\": 3,\n        \"samples\": [\n          \"Opera\\u00e7\\u00f5es do sistema de controle clim\\u00e1tico\",\n          \"Touchscreen\",\n          \"Mudan\\u00e7a de Marchas\"\n        ],\n        \"semantic_type\": \"\",\n        \"description\": \"\"\n      }\n    },\n    {\n      \"column\": \"Conteudo\",\n      \"properties\": {\n        \"dtype\": \"string\",\n        \"num_unique_values\": 3,\n        \"samples\": [\n          \"Sensores estrategicamente posicionados dentro do Google Car monitoram constantemente a temperatura, a umidade e a qualidade do ar, transmitindo esses dados para um controlador inteligente que, por sua vez, ajusta automaticamente o ar condicionado, a ventila\\u00e7\\u00e3o e a ilumina\\u00e7\\u00e3o, garantindo um ambiente interno sempre agrad\\u00e1vel e personalizado, como um maestro conduzindo uma sinfonia de conforto.\",\n          \"A tela touchscreen do Google Car \\u00e9 como uma tela m\\u00e1gica que responde ao toque dos dedos, transformando comandos em a\\u00e7\\u00f5es intuitivas, permitindo navegar pelos menus, controlar o sistema de entretenimento, ajustar o clima e at\\u00e9 mesmo visualizar informa\\u00e7\\u00f5es importantes sobre a viagem, tudo com a fluidez e precis\\u00e3o de um maestro conduzindo uma orquestra digital.\",\n          \"A caixa de c\\u00e2mbio do Google Car, totalmente automatizada, realiza a troca de marchas com a precis\\u00e3o de um relojoeiro, adaptando-se \\u00e0s condi\\u00e7\\u00f5es da estrada e ao estilo de condu\\u00e7\\u00e3o, garantindo uma experi\\u00eancia suave e eficiente, como um maestro conduzindo uma sinfonia de movimentos sincronizados.\"\n        ],\n        \"semantic_type\": \"\",\n        \"description\": \"\"\n      }\n    }\n  ]\n}"
            }
          },
          "metadata": {},
          "execution_count": 6
        }
      ]
    },
    {
      "cell_type": "markdown",
      "source": [
        "**Criando uma função para gerar embeddings como colunas em um df**"
      ],
      "metadata": {
        "id": "YzRtJ22ZX4Gc"
      }
    },
    {
      "cell_type": "code",
      "source": [
        "model = \"models/embedding-001\"\n",
        "\n",
        "def embed_fn(title, text):\n",
        "  return genai.embed_content(model=model,\n",
        "                             content=text,\n",
        "                             title=title,\n",
        "                             task_type=\"RETRIEVAL_DOCUMENT\")[\"embedding\"]\n"
      ],
      "metadata": {
        "id": "cAx8IdkdYEMY"
      },
      "execution_count": null,
      "outputs": []
    },
    {
      "cell_type": "markdown",
      "source": [
        "**Adicionando no DataFrame a coluna de embedding respectiva ao título e conteúdo informados**"
      ],
      "metadata": {
        "id": "dPQCNB95aBZ-"
      }
    },
    {
      "cell_type": "code",
      "source": [
        "df['embedding'] = df.apply(lambda row: embed_fn(row['Titulo'], row['Conteudo']), axis=1)\n",
        "df"
      ],
      "metadata": {
        "colab": {
          "base_uri": "https://localhost:8080/",
          "height": 143
        },
        "id": "VMf_iEqyZc7n",
        "outputId": "bbd091e6-1c86-41f9-e9fe-c6e0541ace82"
      },
      "execution_count": null,
      "outputs": [
        {
          "output_type": "execute_result",
          "data": {
            "text/plain": [
              "                                       Titulo  \\\n",
              "0  Operações do sistema de controle climático   \n",
              "1                                 Touchscreen   \n",
              "2                          Mudança de Marchas   \n",
              "\n",
              "                                            Conteudo  \\\n",
              "0  Sensores estrategicamente posicionados dentro ...   \n",
              "1  A tela touchscreen do Google Car é como uma te...   \n",
              "2  A caixa de câmbio do Google Car, totalmente au...   \n",
              "\n",
              "                                           embedding  \n",
              "0  [-0.008774455, -0.033588186, -0.019025063, 0.0...  \n",
              "1  [0.009426177, -0.03511878, -0.012367844, -0.00...  \n",
              "2  [0.032781474, -0.033281382, -0.018694708, 0.03...  "
            ],
            "text/html": [
              "\n",
              "  <div id=\"df-3a22d0a7-a5a2-473a-85ca-e6e71a80cbf3\" class=\"colab-df-container\">\n",
              "    <div>\n",
              "<style scoped>\n",
              "    .dataframe tbody tr th:only-of-type {\n",
              "        vertical-align: middle;\n",
              "    }\n",
              "\n",
              "    .dataframe tbody tr th {\n",
              "        vertical-align: top;\n",
              "    }\n",
              "\n",
              "    .dataframe thead th {\n",
              "        text-align: right;\n",
              "    }\n",
              "</style>\n",
              "<table border=\"1\" class=\"dataframe\">\n",
              "  <thead>\n",
              "    <tr style=\"text-align: right;\">\n",
              "      <th></th>\n",
              "      <th>Titulo</th>\n",
              "      <th>Conteudo</th>\n",
              "      <th>embedding</th>\n",
              "    </tr>\n",
              "  </thead>\n",
              "  <tbody>\n",
              "    <tr>\n",
              "      <th>0</th>\n",
              "      <td>Operações do sistema de controle climático</td>\n",
              "      <td>Sensores estrategicamente posicionados dentro ...</td>\n",
              "      <td>[-0.008774455, -0.033588186, -0.019025063, 0.0...</td>\n",
              "    </tr>\n",
              "    <tr>\n",
              "      <th>1</th>\n",
              "      <td>Touchscreen</td>\n",
              "      <td>A tela touchscreen do Google Car é como uma te...</td>\n",
              "      <td>[0.009426177, -0.03511878, -0.012367844, -0.00...</td>\n",
              "    </tr>\n",
              "    <tr>\n",
              "      <th>2</th>\n",
              "      <td>Mudança de Marchas</td>\n",
              "      <td>A caixa de câmbio do Google Car, totalmente au...</td>\n",
              "      <td>[0.032781474, -0.033281382, -0.018694708, 0.03...</td>\n",
              "    </tr>\n",
              "  </tbody>\n",
              "</table>\n",
              "</div>\n",
              "    <div class=\"colab-df-buttons\">\n",
              "\n",
              "  <div class=\"colab-df-container\">\n",
              "    <button class=\"colab-df-convert\" onclick=\"convertToInteractive('df-3a22d0a7-a5a2-473a-85ca-e6e71a80cbf3')\"\n",
              "            title=\"Convert this dataframe to an interactive table.\"\n",
              "            style=\"display:none;\">\n",
              "\n",
              "  <svg xmlns=\"http://www.w3.org/2000/svg\" height=\"24px\" viewBox=\"0 -960 960 960\">\n",
              "    <path d=\"M120-120v-720h720v720H120Zm60-500h600v-160H180v160Zm220 220h160v-160H400v160Zm0 220h160v-160H400v160ZM180-400h160v-160H180v160Zm440 0h160v-160H620v160ZM180-180h160v-160H180v160Zm440 0h160v-160H620v160Z\"/>\n",
              "  </svg>\n",
              "    </button>\n",
              "\n",
              "  <style>\n",
              "    .colab-df-container {\n",
              "      display:flex;\n",
              "      gap: 12px;\n",
              "    }\n",
              "\n",
              "    .colab-df-convert {\n",
              "      background-color: #E8F0FE;\n",
              "      border: none;\n",
              "      border-radius: 50%;\n",
              "      cursor: pointer;\n",
              "      display: none;\n",
              "      fill: #1967D2;\n",
              "      height: 32px;\n",
              "      padding: 0 0 0 0;\n",
              "      width: 32px;\n",
              "    }\n",
              "\n",
              "    .colab-df-convert:hover {\n",
              "      background-color: #E2EBFA;\n",
              "      box-shadow: 0px 1px 2px rgba(60, 64, 67, 0.3), 0px 1px 3px 1px rgba(60, 64, 67, 0.15);\n",
              "      fill: #174EA6;\n",
              "    }\n",
              "\n",
              "    .colab-df-buttons div {\n",
              "      margin-bottom: 4px;\n",
              "    }\n",
              "\n",
              "    [theme=dark] .colab-df-convert {\n",
              "      background-color: #3B4455;\n",
              "      fill: #D2E3FC;\n",
              "    }\n",
              "\n",
              "    [theme=dark] .colab-df-convert:hover {\n",
              "      background-color: #434B5C;\n",
              "      box-shadow: 0px 1px 3px 1px rgba(0, 0, 0, 0.15);\n",
              "      filter: drop-shadow(0px 1px 2px rgba(0, 0, 0, 0.3));\n",
              "      fill: #FFFFFF;\n",
              "    }\n",
              "  </style>\n",
              "\n",
              "    <script>\n",
              "      const buttonEl =\n",
              "        document.querySelector('#df-3a22d0a7-a5a2-473a-85ca-e6e71a80cbf3 button.colab-df-convert');\n",
              "      buttonEl.style.display =\n",
              "        google.colab.kernel.accessAllowed ? 'block' : 'none';\n",
              "\n",
              "      async function convertToInteractive(key) {\n",
              "        const element = document.querySelector('#df-3a22d0a7-a5a2-473a-85ca-e6e71a80cbf3');\n",
              "        const dataTable =\n",
              "          await google.colab.kernel.invokeFunction('convertToInteractive',\n",
              "                                                    [key], {});\n",
              "        if (!dataTable) return;\n",
              "\n",
              "        const docLinkHtml = 'Like what you see? Visit the ' +\n",
              "          '<a target=\"_blank\" href=https://colab.research.google.com/notebooks/data_table.ipynb>data table notebook</a>'\n",
              "          + ' to learn more about interactive tables.';\n",
              "        element.innerHTML = '';\n",
              "        dataTable['output_type'] = 'display_data';\n",
              "        await google.colab.output.renderOutput(dataTable, element);\n",
              "        const docLink = document.createElement('div');\n",
              "        docLink.innerHTML = docLinkHtml;\n",
              "        element.appendChild(docLink);\n",
              "      }\n",
              "    </script>\n",
              "  </div>\n",
              "\n",
              "\n",
              "<div id=\"df-45cf9447-ef53-4d13-a596-bc58a778cf85\">\n",
              "  <button class=\"colab-df-quickchart\" onclick=\"quickchart('df-45cf9447-ef53-4d13-a596-bc58a778cf85')\"\n",
              "            title=\"Suggest charts\"\n",
              "            style=\"display:none;\">\n",
              "\n",
              "<svg xmlns=\"http://www.w3.org/2000/svg\" height=\"24px\"viewBox=\"0 0 24 24\"\n",
              "     width=\"24px\">\n",
              "    <g>\n",
              "        <path d=\"M19 3H5c-1.1 0-2 .9-2 2v14c0 1.1.9 2 2 2h14c1.1 0 2-.9 2-2V5c0-1.1-.9-2-2-2zM9 17H7v-7h2v7zm4 0h-2V7h2v10zm4 0h-2v-4h2v4z\"/>\n",
              "    </g>\n",
              "</svg>\n",
              "  </button>\n",
              "\n",
              "<style>\n",
              "  .colab-df-quickchart {\n",
              "      --bg-color: #E8F0FE;\n",
              "      --fill-color: #1967D2;\n",
              "      --hover-bg-color: #E2EBFA;\n",
              "      --hover-fill-color: #174EA6;\n",
              "      --disabled-fill-color: #AAA;\n",
              "      --disabled-bg-color: #DDD;\n",
              "  }\n",
              "\n",
              "  [theme=dark] .colab-df-quickchart {\n",
              "      --bg-color: #3B4455;\n",
              "      --fill-color: #D2E3FC;\n",
              "      --hover-bg-color: #434B5C;\n",
              "      --hover-fill-color: #FFFFFF;\n",
              "      --disabled-bg-color: #3B4455;\n",
              "      --disabled-fill-color: #666;\n",
              "  }\n",
              "\n",
              "  .colab-df-quickchart {\n",
              "    background-color: var(--bg-color);\n",
              "    border: none;\n",
              "    border-radius: 50%;\n",
              "    cursor: pointer;\n",
              "    display: none;\n",
              "    fill: var(--fill-color);\n",
              "    height: 32px;\n",
              "    padding: 0;\n",
              "    width: 32px;\n",
              "  }\n",
              "\n",
              "  .colab-df-quickchart:hover {\n",
              "    background-color: var(--hover-bg-color);\n",
              "    box-shadow: 0 1px 2px rgba(60, 64, 67, 0.3), 0 1px 3px 1px rgba(60, 64, 67, 0.15);\n",
              "    fill: var(--button-hover-fill-color);\n",
              "  }\n",
              "\n",
              "  .colab-df-quickchart-complete:disabled,\n",
              "  .colab-df-quickchart-complete:disabled:hover {\n",
              "    background-color: var(--disabled-bg-color);\n",
              "    fill: var(--disabled-fill-color);\n",
              "    box-shadow: none;\n",
              "  }\n",
              "\n",
              "  .colab-df-spinner {\n",
              "    border: 2px solid var(--fill-color);\n",
              "    border-color: transparent;\n",
              "    border-bottom-color: var(--fill-color);\n",
              "    animation:\n",
              "      spin 1s steps(1) infinite;\n",
              "  }\n",
              "\n",
              "  @keyframes spin {\n",
              "    0% {\n",
              "      border-color: transparent;\n",
              "      border-bottom-color: var(--fill-color);\n",
              "      border-left-color: var(--fill-color);\n",
              "    }\n",
              "    20% {\n",
              "      border-color: transparent;\n",
              "      border-left-color: var(--fill-color);\n",
              "      border-top-color: var(--fill-color);\n",
              "    }\n",
              "    30% {\n",
              "      border-color: transparent;\n",
              "      border-left-color: var(--fill-color);\n",
              "      border-top-color: var(--fill-color);\n",
              "      border-right-color: var(--fill-color);\n",
              "    }\n",
              "    40% {\n",
              "      border-color: transparent;\n",
              "      border-right-color: var(--fill-color);\n",
              "      border-top-color: var(--fill-color);\n",
              "    }\n",
              "    60% {\n",
              "      border-color: transparent;\n",
              "      border-right-color: var(--fill-color);\n",
              "    }\n",
              "    80% {\n",
              "      border-color: transparent;\n",
              "      border-right-color: var(--fill-color);\n",
              "      border-bottom-color: var(--fill-color);\n",
              "    }\n",
              "    90% {\n",
              "      border-color: transparent;\n",
              "      border-bottom-color: var(--fill-color);\n",
              "    }\n",
              "  }\n",
              "</style>\n",
              "\n",
              "  <script>\n",
              "    async function quickchart(key) {\n",
              "      const quickchartButtonEl =\n",
              "        document.querySelector('#' + key + ' button');\n",
              "      quickchartButtonEl.disabled = true;  // To prevent multiple clicks.\n",
              "      quickchartButtonEl.classList.add('colab-df-spinner');\n",
              "      try {\n",
              "        const charts = await google.colab.kernel.invokeFunction(\n",
              "            'suggestCharts', [key], {});\n",
              "      } catch (error) {\n",
              "        console.error('Error during call to suggestCharts:', error);\n",
              "      }\n",
              "      quickchartButtonEl.classList.remove('colab-df-spinner');\n",
              "      quickchartButtonEl.classList.add('colab-df-quickchart-complete');\n",
              "    }\n",
              "    (() => {\n",
              "      let quickchartButtonEl =\n",
              "        document.querySelector('#df-45cf9447-ef53-4d13-a596-bc58a778cf85 button');\n",
              "      quickchartButtonEl.style.display =\n",
              "        google.colab.kernel.accessAllowed ? 'block' : 'none';\n",
              "    })();\n",
              "  </script>\n",
              "</div>\n",
              "\n",
              "  <div id=\"id_48dfabeb-530a-4acb-9413-40b976406b0a\">\n",
              "    <style>\n",
              "      .colab-df-generate {\n",
              "        background-color: #E8F0FE;\n",
              "        border: none;\n",
              "        border-radius: 50%;\n",
              "        cursor: pointer;\n",
              "        display: none;\n",
              "        fill: #1967D2;\n",
              "        height: 32px;\n",
              "        padding: 0 0 0 0;\n",
              "        width: 32px;\n",
              "      }\n",
              "\n",
              "      .colab-df-generate:hover {\n",
              "        background-color: #E2EBFA;\n",
              "        box-shadow: 0px 1px 2px rgba(60, 64, 67, 0.3), 0px 1px 3px 1px rgba(60, 64, 67, 0.15);\n",
              "        fill: #174EA6;\n",
              "      }\n",
              "\n",
              "      [theme=dark] .colab-df-generate {\n",
              "        background-color: #3B4455;\n",
              "        fill: #D2E3FC;\n",
              "      }\n",
              "\n",
              "      [theme=dark] .colab-df-generate:hover {\n",
              "        background-color: #434B5C;\n",
              "        box-shadow: 0px 1px 3px 1px rgba(0, 0, 0, 0.15);\n",
              "        filter: drop-shadow(0px 1px 2px rgba(0, 0, 0, 0.3));\n",
              "        fill: #FFFFFF;\n",
              "      }\n",
              "    </style>\n",
              "    <button class=\"colab-df-generate\" onclick=\"generateWithVariable('df')\"\n",
              "            title=\"Generate code using this dataframe.\"\n",
              "            style=\"display:none;\">\n",
              "\n",
              "  <svg xmlns=\"http://www.w3.org/2000/svg\" height=\"24px\"viewBox=\"0 0 24 24\"\n",
              "       width=\"24px\">\n",
              "    <path d=\"M7,19H8.4L18.45,9,17,7.55,7,17.6ZM5,21V16.75L18.45,3.32a2,2,0,0,1,2.83,0l1.4,1.43a1.91,1.91,0,0,1,.58,1.4,1.91,1.91,0,0,1-.58,1.4L9.25,21ZM18.45,9,17,7.55Zm-12,3A5.31,5.31,0,0,0,4.9,8.1,5.31,5.31,0,0,0,1,6.5,5.31,5.31,0,0,0,4.9,4.9,5.31,5.31,0,0,0,6.5,1,5.31,5.31,0,0,0,8.1,4.9,5.31,5.31,0,0,0,12,6.5,5.46,5.46,0,0,0,6.5,12Z\"/>\n",
              "  </svg>\n",
              "    </button>\n",
              "    <script>\n",
              "      (() => {\n",
              "      const buttonEl =\n",
              "        document.querySelector('#id_48dfabeb-530a-4acb-9413-40b976406b0a button.colab-df-generate');\n",
              "      buttonEl.style.display =\n",
              "        google.colab.kernel.accessAllowed ? 'block' : 'none';\n",
              "\n",
              "      buttonEl.onclick = () => {\n",
              "        google.colab.notebook.generateWithVariable('df');\n",
              "      }\n",
              "      })();\n",
              "    </script>\n",
              "  </div>\n",
              "\n",
              "    </div>\n",
              "  </div>\n"
            ],
            "application/vnd.google.colaboratory.intrinsic+json": {
              "type": "dataframe",
              "variable_name": "df",
              "summary": "{\n  \"name\": \"df\",\n  \"rows\": 3,\n  \"fields\": [\n    {\n      \"column\": \"Titulo\",\n      \"properties\": {\n        \"dtype\": \"string\",\n        \"num_unique_values\": 3,\n        \"samples\": [\n          \"Opera\\u00e7\\u00f5es do sistema de controle clim\\u00e1tico\",\n          \"Touchscreen\",\n          \"Mudan\\u00e7a de Marchas\"\n        ],\n        \"semantic_type\": \"\",\n        \"description\": \"\"\n      }\n    },\n    {\n      \"column\": \"Conteudo\",\n      \"properties\": {\n        \"dtype\": \"string\",\n        \"num_unique_values\": 3,\n        \"samples\": [\n          \"Sensores estrategicamente posicionados dentro do Google Car monitoram constantemente a temperatura, a umidade e a qualidade do ar, transmitindo esses dados para um controlador inteligente que, por sua vez, ajusta automaticamente o ar condicionado, a ventila\\u00e7\\u00e3o e a ilumina\\u00e7\\u00e3o, garantindo um ambiente interno sempre agrad\\u00e1vel e personalizado, como um maestro conduzindo uma sinfonia de conforto.\",\n          \"A tela touchscreen do Google Car \\u00e9 como uma tela m\\u00e1gica que responde ao toque dos dedos, transformando comandos em a\\u00e7\\u00f5es intuitivas, permitindo navegar pelos menus, controlar o sistema de entretenimento, ajustar o clima e at\\u00e9 mesmo visualizar informa\\u00e7\\u00f5es importantes sobre a viagem, tudo com a fluidez e precis\\u00e3o de um maestro conduzindo uma orquestra digital.\",\n          \"A caixa de c\\u00e2mbio do Google Car, totalmente automatizada, realiza a troca de marchas com a precis\\u00e3o de um relojoeiro, adaptando-se \\u00e0s condi\\u00e7\\u00f5es da estrada e ao estilo de condu\\u00e7\\u00e3o, garantindo uma experi\\u00eancia suave e eficiente, como um maestro conduzindo uma sinfonia de movimentos sincronizados.\"\n        ],\n        \"semantic_type\": \"\",\n        \"description\": \"\"\n      }\n    },\n    {\n      \"column\": \"embedding\",\n      \"properties\": {\n        \"dtype\": \"object\",\n        \"semantic_type\": \"\",\n        \"description\": \"\"\n      }\n    }\n  ]\n}"
            }
          },
          "metadata": {},
          "execution_count": 8
        }
      ]
    },
    {
      "cell_type": "markdown",
      "source": [
        "**Função para gerar embedding do texto de consulta e retornar o conteúdo mais próximo da busca feita**"
      ],
      "metadata": {
        "id": "CYHbyvkZtnnw"
      }
    },
    {
      "cell_type": "code",
      "source": [
        "def gerar_e_fazer_pesquisa(consult, base):\n",
        "  embedding_da_consulta = genai.embed_content(model=model,\n",
        "                                 content=consult,\n",
        "                                 task_type=\"RETRIEVAL_QUERY\")['embedding']\n",
        "\n",
        "  produtos_escalares = np.dot(np.stack(df['embedding']), embedding_da_consulta)\n",
        "\n",
        "  indice = np.argmax(produtos_escalares)\n",
        "  return df.iloc[indice]['Conteudo']"
      ],
      "metadata": {
        "id": "Y8G0vLiIg8j9"
      },
      "execution_count": null,
      "outputs": []
    },
    {
      "cell_type": "markdown",
      "source": [
        "**Fazendo uma busca no dataFrame e exibindo o valor do conteúdo mais próximo**"
      ],
      "metadata": {
        "id": "97QeyuULuJSp"
      }
    },
    {
      "cell_type": "code",
      "source": [
        "trecho = gerar_e_fazer_pesquisa(\"Como funciona a troca de marchas do carro?\", df)\n",
        "print(trecho)"
      ],
      "metadata": {
        "colab": {
          "base_uri": "https://localhost:8080/",
          "height": 54
        },
        "id": "Y3Pb5KTCnyjp",
        "outputId": "fc2fa937-1b4e-4d8e-8967-176ae027df9c"
      },
      "execution_count": null,
      "outputs": [
        {
          "output_type": "stream",
          "name": "stdout",
          "text": [
            "A caixa de câmbio do Google Car, totalmente automatizada, realiza a troca de marchas com a precisão de um relojoeiro, adaptando-se às condições da estrada e ao estilo de condução, garantindo uma experiência suave e eficiente, como um maestro conduzindo uma sinfonia de movimentos sincronizados.\n"
          ]
        }
      ]
    },
    {
      "cell_type": "markdown",
      "source": [
        "**Fazendo o Gemini gerar uma resposta baseada naquilo que ele encontrar semelhante na base**"
      ],
      "metadata": {
        "id": "RuTACtgzxgi_"
      }
    },
    {
      "cell_type": "code",
      "source": [
        "prompt = f\"Reescreva esse texto sem adicionar infromações que não façam parte do texto original: {trecho}\"\n",
        "\n",
        "generation_configs = {\n",
        "    \"candidate_count\": 1,\n",
        "    \"temperature\": 0.5,\n",
        "}\n",
        "\n",
        "model_2 = genai.GenerativeModel(\"gemini-1.0-pro\",\n",
        "                                generation_config=generation_configs)\n",
        "response = model_2.generate_content(prompt)\n",
        "print(response.text)"
      ],
      "metadata": {
        "colab": {
          "base_uri": "https://localhost:8080/",
          "height": 54
        },
        "id": "CSC4NubjxoB-",
        "outputId": "abea58a7-7863-47cd-d752-e2e12cd10ee5"
      },
      "execution_count": null,
      "outputs": [
        {
          "output_type": "stream",
          "name": "stdout",
          "text": [
            "Imagina o Google Car como um carro que troca de marchas igualzinho a um ninja, na hora certa e sem nem suar a camisa. Ele se adapta a qualquer estrada, como se fosse um camaleão, e ao seu estilo de dirigir, como se fosse seu melhor amigo. É como uma música que toca sozinha, suave e certinha, sem você precisar nem encostar no rádio!\n"
          ]
        }
      ]
    }
  ]
}